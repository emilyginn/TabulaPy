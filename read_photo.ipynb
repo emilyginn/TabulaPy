{
 "cells": [
  {
   "cell_type": "markdown",
   "id": "3a764a14",
   "metadata": {},
   "source": [
    "# Convert Photos to Text"
   ]
  },
  {
   "cell_type": "markdown",
   "id": "ea69110f",
   "metadata": {},
   "source": [
    "During this portion of the project, the goal is to develop a technique for successfully converting sample screenshots to text. This notebook also lays the groundwork for the next phase of the project where I will work on training an LSTM model on sequences of text that have been extracted from photographs, and sequences of the same text that have been cleaned up and formatted properly. This is the first step in creating an architecture that can successfully take a photo as input and produce a clean, structured output."
   ]
  },
  {
   "cell_type": "markdown",
   "id": "4e0daff4",
   "metadata": {},
   "source": [
    "## Set Up"
   ]
  },
  {
   "cell_type": "code",
   "execution_count": 1,
   "id": "b5e9f6e6",
   "metadata": {},
   "outputs": [],
   "source": [
    "## Necessary packages\n",
    "import cv2\n",
    "import pytesseract\n",
    "import pandas as pd\n",
    "import os\n",
    "import re\n",
    "import requests\n",
    "from bs4 import BeautifulSoup\n",
    "from utils import *\n",
    "os.environ['TESSDATA_PREFIX'] = '/home/ec2-user/tesseract/tessdata'\n"
   ]
  },
  {
   "cell_type": "markdown",
   "id": "60d69c0a",
   "metadata": {},
   "source": [
    "## Convert Sample Screenshot to Text"
   ]
  },
  {
   "cell_type": "code",
   "execution_count": 2,
   "id": "56adef4e",
   "metadata": {},
   "outputs": [],
   "source": [
    "## Load the sample screenshot\n",
    "image = cv2.imread('Oceania_sunlight_hours.png')\n",
    "\n",
    "## Convert the image to grayscale\n",
    "gray = cv2.cvtColor(image, cv2.COLOR_BGR2GRAY)\n",
    "\n",
    "## Perform OCR to convert the image to string\n",
    "text = pytesseract.image_to_string(image)"
   ]
  },
  {
   "cell_type": "code",
   "execution_count": 3,
   "id": "37922401",
   "metadata": {},
   "outputs": [],
   "source": [
    "## Perform OCR to convert the image to string\n",
    "text = pytesseract.image_to_string(image)"
   ]
  },
  {
   "cell_type": "code",
   "execution_count": 4,
   "id": "6bb31abd",
   "metadata": {},
   "outputs": [
    {
     "data": {
      "text/plain": [
       "'Country City ¢ Jan ¢ Feb ¢ Mar ¢ Apr ¢ May ¢ (Jun ¢ |[Jul ¢ Aug ¢ Sep ¢ Oct ¢+ Nov ¢ Dec ¢ Year + Ref. ¢\\n\\nAustralia EZ:EM 285.2 257.1 2852 2940 300.7 2940 3162 3286 306.0 313.1 2940 291.4 3,5655 [187)\\nAustralia Oodnadatta | 337.9 315.0 313.1 273.0 2449 231.0 2542 2759 291.0 3162 321.0 341.0 35142 [1%8\\nAustralia Broome 257.3 2128 2635 2940 2914 2820 3069 3255 3120 3379 3360 291.4 35107 [189\\nAustralia Alice Springs | 306.0 276.8 300.7 2850 263.5 2520 2821 3069 300.0 313.1 303.0 310.0 3,499.1 ?\\nAustralia Perth 356.5 3149 2955 246.0 211.7 180.6 188.4 219.8 2324 299.8 320.4 359.4 3,229.5 ?\\nAustralia Townsville 2542 211.9 2449 2439 2449 231.0 2635 279.0 291.0 3069 291.0 2883 3,141.1 [190\\nAustralia Darwin 176.7 162.4 2108 261.0 297.6 297.0 313.1 319.3 297.0 291.4 2520 2139 3,0922 ?\\nAustralia Brisbane 263.5 2232 2325 2340 2356 198.0 2387 266.6 270.0 2759 270.0 2654 2,968.4 ?\\nAustralia Canberra 2045 2543 2511 219.0 186.0 156.0 179.8 217.0 231.0 266.6 267.0 291.4 2,813.7 ?\\nAustralia Adelaide 3255 285.3 266.6 219.0 167.4 138.0 1488 186.0 2040 257.3 273.0 2945 2,7654 ?\\nAustralia Cairns 210.8 1736 2015 2040 2108 2160 229.4 251.1 261.0 2728 2550 2325 2,7185 [\\nAustralia Launceston 2852 256.9 241.8 198.0 155.0 135.0 1426 1705 201.0 254.2 267.0 2821 2,589.3 197\\nAustralia Sydney 2201 189.3 1984 192 1829 165 198.4 213 2232 216 2418 228 24681 1%\\nPapua New\\n\\nGuinea Port Moresby = 182 158 184 200 211 200 203 222 213 231 243 216 2463 ?\\nAustralia Hobart 257.3 226.0 210.8 177.0 1488 1320 151.9 179.8 1953 2325 2340 248.0 2,393.1 [19%\\nAustralia Melbourne 266.6 228.8 2232 186.0 1426 1200 1364 1643 183.0 2232 2250 2635 2,362.6 ?\\nSolomon Islands | Honiara 186.0 155.4 198.4 192.0 210.8 198.0 186.0 204.6 192.0 2263 2160 164.3 2,330.0 ?\\n\\nNew Zealand Christchurch 2244 190.5 177.4 1556 133.3 1177 1248 149.0 166.6 201.3 2153 2143 2,070.2 ?\\nNew Zealand Wellington 240.3 205.0 1947 1538 126.0 1023 111.4 1372 163.2 1911 2108 2229 2,058.7 ?\\n\\nNew Zealand Hamilton 229.8 1929 1933 165.1 1383 1128 1264 1441 1475 1748 1871 207.6 2,0196 ?\\nNew Zealand Auckland 228.8 1949 1892 157.3 139.8 110.3 1281 1429 1486 1781 1881 1972 2,003.1 ?\\nFiji Suva 1922 178 1705 153.0 1457 141.0 1364 1426 1350 1643 168.0 1953 1,922.0 [19\\n\\nNew Zealand Dunedin 1796 158.0 146.1 1259 1084 953 110.6 1222 136.8 1655 1669 168.3 1,683.7 |19\\n'"
      ]
     },
     "execution_count": 4,
     "metadata": {},
     "output_type": "execute_result"
    }
   ],
   "source": [
    "text"
   ]
  },
  {
   "cell_type": "markdown",
   "id": "04ce1c55",
   "metadata": {},
   "source": [
    "## Create Format for Training Set"
   ]
  },
  {
   "cell_type": "code",
   "execution_count": 5,
   "id": "49dae157",
   "metadata": {},
   "outputs": [],
   "source": [
    "## URL of the Wikipedia page\n",
    "url = 'https://en.wikipedia.org/wiki/List_of_cities_by_sunshine_duration#Oceania'\n",
    "\n",
    "## Send a GET request to the URL\n",
    "response = requests.get(url)\n",
    "\n",
    "## Create a BeautifulSoup object to parse the HTML content\n",
    "soup = BeautifulSoup(response.content, 'html.parser')\n",
    "\n",
    "## Extract the correct table from the Wikipedia page\n",
    "oceania_table = soup.find('span', {'id': 'Oceania'}).find_next('table')\n",
    "\n",
    "## Extract the rows from the HTML table\n",
    "rows = oceania_table.find_all('tr')"
   ]
  },
  {
   "cell_type": "code",
   "execution_count": 8,
   "id": "f9b9ac99",
   "metadata": {},
   "outputs": [],
   "source": [
    "## Use build_table() function from utils.py\n",
    "df = build_table(rows)"
   ]
  },
  {
   "cell_type": "code",
   "execution_count": 9,
   "id": "4c7fa4cb",
   "metadata": {},
   "outputs": [
    {
     "data": {
      "text/plain": [
       "'             Country           City    Jan    Feb    Mar    Apr    May    Jun    Jul    Aug    Sep    Oct    Nov    Dec     Year   Ref.\\n0          Australia  Tennant Creek  285.2  257.1  285.2  294.0  300.7  294.0  316.2  328.6  306.0  313.1  294.0  291.4  3,565.5  [187]\\n1          Australia     Oodnadatta  337.9  315.0  313.1  273.0  244.9  231.0  254.2  275.9  291.0  316.2  321.0  341.0  3,514.2  [188]\\n2          Australia         Broome  257.3  212.8  263.5  294.0  291.4  282.0  306.9  325.5  312.0  337.9  336.0  291.4  3,510.7  [189]\\n3          Australia  Alice Springs  306.0  276.8  300.7  285.0  263.5  252.0  282.1  306.9  300.0  313.1  303.0  310.0  3,499.1      ?\\n4          Australia          Perth  356.5  314.9  295.5  246.0  211.7  180.6  188.4  219.8  232.4  299.8  320.4  359.4  3,229.5      ?\\n5          Australia     Townsville  254.2  211.9  244.9  243.9  244.9  231.0  263.5  279.0  291.0  306.9  291.0  288.3  3,141.1  [190]\\n6          Australia         Darwin  176.7  162.4  210.8  261.0  297.6  297.0  313.1  319.3  297.0  291.4  252.0  213.9  3,092.2      ?\\n7          Australia       Brisbane  263.5  223.2  232.5  234.0  235.6  198.0  238.7  266.6  270.0  275.9  270.0  265.4  2,968.4      ?\\n8          Australia       Canberra  294.5  254.3  251.1  219.0  186.0  156.0  179.8  217.0  231.0  266.6  267.0  291.4  2,813.7      ?\\n9          Australia       Adelaide  325.5  285.3  266.6  219.0  167.4  138.0  148.8  186.0  204.0  257.3  273.0  294.5  2,765.4      ?\\n10         Australia         Cairns  210.8  173.6  201.5  204.0  210.8  216.0  229.4  251.1  261.0  272.8  255.0  232.5  2,718.5  [191]\\n11         Australia     Launceston  285.2  256.9  241.8  198.0  155.0  135.0  142.6  170.5  201.0  254.2  267.0  282.1  2,589.3  [192]\\n12         Australia         Sydney  220.1  189.3  198.4    192  182.9    165  198.4    213  223.2    216  241.8    228  2,468.1  [193]\\n13  Papua New Guinea   Port Moresby    182    158    184    200    211    200    203    222    213    231    243    216    2,463      ?\\n14         Australia         Hobart  257.3  226.0  210.8  177.0  148.8  132.0  151.9  179.8  195.3  232.5  234.0  248.0  2,393.1  [194]\\n15         Australia      Melbourne  266.6  228.8  223.2  186.0  142.6  120.0  136.4  164.3  183.0  223.2  225.0  263.5  2,362.6      ?\\n16   Solomon Islands        Honiara  186.0  155.4  198.4  192.0  210.8  198.0  186.0  204.6  192.0  226.3  216.0  164.3  2,330.0      ?\\n17       New Zealand   Christchurch  224.4  190.5  177.4  155.6  133.3  117.7  124.8  149.0  166.6  201.3  215.3  214.3  2,070.2      ?\\n18       New Zealand     Wellington  240.3  205.0  194.7  153.8  126.0  102.3  111.4  137.2  163.2  191.1  210.8  222.9  2,058.7      ?\\n19       New Zealand       Hamilton  229.8  192.9  193.3  165.1  138.3  112.8  126.4  144.1  147.5  174.8  187.1  207.6  2,019.6      ?\\n20       New Zealand       Auckland  228.8  194.9  189.2  157.3  139.8  110.3  128.1  142.9  148.6  178.1  188.1  197.2  2,003.1      ?\\n21              Fiji           Suva  192.2    178  170.5  153.0  145.7  141.0  136.4  142.6  135.0  164.3  168.0  195.3  1,922.0  [195]\\n22       New Zealand        Dunedin  179.6  158.0  146.1  125.9  108.4   95.3  110.6  122.2  136.8  165.5  166.9  168.3  1,683.7  [196]'"
      ]
     },
     "execution_count": 9,
     "metadata": {},
     "output_type": "execute_result"
    }
   ],
   "source": [
    "df.to_string()"
   ]
  },
  {
   "cell_type": "markdown",
   "id": "f9012a64",
   "metadata": {},
   "source": [
    "## Build Functions for Generating a Training Set"
   ]
  },
  {
   "cell_type": "code",
   "execution_count": 10,
   "id": "9264a901",
   "metadata": {},
   "outputs": [],
   "source": [
    "def img_to_txt(image_file_name):\n",
    "    \n",
    "    import cv2\n",
    "    import pytesseract\n",
    "    \n",
    "    ## Load the sample screenshot\n",
    "    image = cv2.imread(image_file_name)\n",
    "    ## Convert the image to grayscale\n",
    "    gray = cv2.cvtColor(image, cv2.COLOR_BGR2GRAY)\n",
    "\n",
    "    ## Perform OCR to convert the image to string\n",
    "    text = pytesseract.image_to_string(image)\n",
    "    \n",
    "    return text"
   ]
  },
  {
   "cell_type": "code",
   "execution_count": null,
   "id": "26106924",
   "metadata": {},
   "outputs": [],
   "source": []
  }
 ],
 "metadata": {
  "kernelspec": {
   "display_name": "Python 3 (ipykernel)",
   "language": "python",
   "name": "python3"
  },
  "language_info": {
   "codemirror_mode": {
    "name": "ipython",
    "version": 3
   },
   "file_extension": ".py",
   "mimetype": "text/x-python",
   "name": "python",
   "nbconvert_exporter": "python",
   "pygments_lexer": "ipython3",
   "version": "3.9.16"
  }
 },
 "nbformat": 4,
 "nbformat_minor": 5
}
